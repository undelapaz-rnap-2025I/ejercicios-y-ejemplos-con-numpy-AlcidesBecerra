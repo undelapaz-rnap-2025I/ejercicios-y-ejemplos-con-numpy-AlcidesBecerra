{
  "cells": [
    {
      "cell_type": "markdown",
      "metadata": {
        "id": "z9dathS_lkMu"
      },
      "source": [
        "# <center>Learning and practicing NumPy with examples and exercises</center>"
      ]
    },
    {
      "cell_type": "markdown",
      "metadata": {},
      "source": [
        "## 1. Examples: Numpy"
      ]
    },
    {
      "cell_type": "code",
      "execution_count": 1,
      "metadata": {},
      "outputs": [],
      "source": [
        "import numpy as np\n",
        "import matplotlib.pyplot as plt"
      ]
    },
    {
      "cell_type": "markdown",
      "metadata": {},
      "source": [
        "### 1.1 Basic Indexing:"
      ]
    },
    {
      "cell_type": "code",
      "execution_count": 2,
      "metadata": {},
      "outputs": [
        {
          "name": "stdout",
          "output_type": "stream",
          "text": [
            "30\n"
          ]
        }
      ],
      "source": [
        "arr = np.array([10, 20, 30, 40, 50])\n",
        "print(arr[2])"
      ]
    },
    {
      "cell_type": "markdown",
      "metadata": {},
      "source": [
        "### 1.2 Slicing:\n"
      ]
    },
    {
      "cell_type": "code",
      "execution_count": 3,
      "metadata": {},
      "outputs": [
        {
          "name": "stdout",
          "output_type": "stream",
          "text": [
            "[20 30 40]\n"
          ]
        }
      ],
      "source": [
        "arr = np.array([10, 20, 30, 40, 50])\n",
        "print(arr[1:4])"
      ]
    },
    {
      "cell_type": "markdown",
      "metadata": {},
      "source": [
        "### 1.3 Indexing 2D Arrays:"
      ]
    },
    {
      "cell_type": "code",
      "execution_count": 4,
      "metadata": {},
      "outputs": [
        {
          "name": "stdout",
          "output_type": "stream",
          "text": [
            "6\n"
          ]
        }
      ],
      "source": [
        "arr = np.array([[1, 2, 3], \n",
        "                [4, 5, 6], \n",
        "                [7, 8, 9]])\n",
        "print(arr[1, 2])"
      ]
    },
    {
      "cell_type": "markdown",
      "metadata": {},
      "source": [
        "### 1.4 Slicing 2D Arrays:"
      ]
    },
    {
      "cell_type": "code",
      "execution_count": 5,
      "metadata": {},
      "outputs": [
        {
          "name": "stdout",
          "output_type": "stream",
          "text": [
            "[[2 3]\n",
            " [5 6]]\n"
          ]
        }
      ],
      "source": [
        "arr = np.array([[1, 2, 3], \n",
        "                [4, 5, 6], \n",
        "                [7, 8, 9]])\n",
        "print(arr[:2, 1:])"
      ]
    },
    {
      "cell_type": "markdown",
      "metadata": {},
      "source": [
        "### 1.5 3D Tensor Indexing:"
      ]
    },
    {
      "cell_type": "code",
      "execution_count": 6,
      "metadata": {},
      "outputs": [
        {
          "name": "stdout",
          "output_type": "stream",
          "text": [
            "9\n",
            "[[ 7  8  9]\n",
            " [10 11 12]]\n"
          ]
        }
      ],
      "source": [
        "tensor = np.array([[[1 , 2 , 3 ], [4 , 5 , 6 ]],\n",
        "                   [[7 , 8 , 9 ], [10, 11, 12]],\n",
        "                   [[13, 14, 15], [16, 17, 18]]])\n",
        "# Access specific elements\n",
        "print(tensor[1, 0, 2])\n",
        "# Access a slice of the tensor\n",
        "print(tensor[1])"
      ]
    },
    {
      "cell_type": "markdown",
      "metadata": {},
      "source": [
        "### 1.6 Slicing a 3D Tensor:"
      ]
    },
    {
      "cell_type": "code",
      "execution_count": 7,
      "metadata": {},
      "outputs": [
        {
          "name": "stdout",
          "output_type": "stream",
          "text": [
            "[[ 9 10 11]\n",
            " [12 13 14]\n",
            " [15 16 17]]\n",
            "[[ 3  4  5]\n",
            " [12 13 14]\n",
            " [21 22 23]]\n",
            "[[ 2  5  8]\n",
            " [11 14 17]\n",
            " [20 23 26]]\n"
          ]
        }
      ],
      "source": [
        "tensor = np.arange(27).reshape(3, 3, 3) \n",
        "# Slice along the first dimension\n",
        "print(tensor[1])\n",
        "# Slice along the second dimension\n",
        "print(tensor[:, 1, :])\n",
        "# Slice along the third dimension\n",
        "print(tensor[:, :, 2])"
      ]
    },
    {
      "cell_type": "markdown",
      "metadata": {},
      "source": [
        "### 1.7 4D Tensor Indexing:"
      ]
    },
    {
      "cell_type": "code",
      "execution_count": 8,
      "metadata": {},
      "outputs": [
        {
          "name": "stdout",
          "output_type": "stream",
          "text": [
            "43\n",
            "[[40 41 42 43]\n",
            " [44 45 46 47]]\n"
          ]
        }
      ],
      "source": [
        "tensor = np.arange(48).reshape(2, 3, 2, 4)\n",
        "# Access a specific element\n",
        "print(tensor[1, 2, 0, 3])\n",
        "# Access a whole \"block\" (3D sub-tensor)\n",
        "print(tensor[1, 2])"
      ]
    },
    {
      "cell_type": "markdown",
      "metadata": {},
      "source": [
        "### 1.8 Slicing a 4D Tensor:"
      ]
    },
    {
      "cell_type": "code",
      "execution_count": 9,
      "metadata": {},
      "outputs": [
        {
          "name": "stdout",
          "output_type": "stream",
          "text": [
            "[[[24 25 26 27]\n",
            "  [28 29 30 31]]\n",
            "\n",
            " [[32 33 34 35]\n",
            "  [36 37 38 39]]\n",
            "\n",
            " [[40 41 42 43]\n",
            "  [44 45 46 47]]]\n",
            "[[[16 17 18 19]\n",
            "  [20 21 22 23]]\n",
            "\n",
            " [[40 41 42 43]\n",
            "  [44 45 46 47]]]\n",
            "[[[ 0  1  2  3]\n",
            "  [ 8  9 10 11]\n",
            "  [16 17 18 19]]\n",
            "\n",
            " [[24 25 26 27]\n",
            "  [32 33 34 35]\n",
            "  [40 41 42 43]]]\n"
          ]
        }
      ],
      "source": [
        "tensor = np.arange(48).reshape(2, 3, 2, 4)\n",
        "# Slice along the first dimension\n",
        "print(tensor[1])\n",
        "# Slice along the second dimension\n",
        "print(tensor[:, 2, :, :])\n",
        "# Slice along the third dimension\n",
        "print(tensor[:, :, 0, :])"
      ]
    },
    {
      "cell_type": "markdown",
      "metadata": {},
      "source": [
        "### 1.9 Matrix Addition:"
      ]
    },
    {
      "cell_type": "code",
      "execution_count": 10,
      "metadata": {},
      "outputs": [
        {
          "name": "stdout",
          "output_type": "stream",
          "text": [
            "[[ 6  8]\n",
            " [10 12]]\n"
          ]
        }
      ],
      "source": [
        "A = np.array([[1, 2], [3, 4]])\n",
        "B = np.array([[5, 6], [7, 8]])\n",
        "result = A + B\n",
        "print(result)"
      ]
    },
    {
      "cell_type": "markdown",
      "metadata": {},
      "source": [
        "### 1.10 Matrix Multiplication:"
      ]
    },
    {
      "cell_type": "code",
      "execution_count": 11,
      "metadata": {},
      "outputs": [
        {
          "name": "stdout",
          "output_type": "stream",
          "text": [
            "[[19 22]\n",
            " [43 50]]\n"
          ]
        }
      ],
      "source": [
        "A = np.array([[1, 2], [3, 4]])\n",
        "B = np.array([[5, 6], [7, 8]])\n",
        "result = np.dot(A, B)\n",
        "print(result)"
      ]
    },
    {
      "cell_type": "markdown",
      "metadata": {},
      "source": [
        "### 1.11 Transpose of a Matrix:"
      ]
    },
    {
      "cell_type": "code",
      "execution_count": 12,
      "metadata": {},
      "outputs": [
        {
          "name": "stdout",
          "output_type": "stream",
          "text": [
            "[[1 3]\n",
            " [2 4]]\n"
          ]
        }
      ],
      "source": [
        "A = np.array([[1, 2], [3, 4]])\n",
        "result = np.transpose(A)\n",
        "print(result)"
      ]
    },
    {
      "cell_type": "markdown",
      "metadata": {},
      "source": [
        "### 1.12 Matrix Determinant and Inverse:"
      ]
    },
    {
      "cell_type": "code",
      "execution_count": 13,
      "metadata": {},
      "outputs": [
        {
          "name": "stdout",
          "output_type": "stream",
          "text": [
            "Determinant: -2.0000000000000004\n",
            "Inverse:\n",
            " [[-2.   1. ]\n",
            " [ 1.5 -0.5]]\n"
          ]
        }
      ],
      "source": [
        "A = np.array([[1, 2], [3, 4]])\n",
        "det = np.linalg.det(A)\n",
        "inverse = np.linalg.inv(A)\n",
        "print(\"Determinant:\", det)\n",
        "print(\"Inverse:\\n\", inverse)"
      ]
    },
    {
      "cell_type": "markdown",
      "metadata": {},
      "source": [
        "### 1.13 Eigenvalues and Eigenvectors:"
      ]
    },
    {
      "cell_type": "code",
      "execution_count": 14,
      "metadata": {},
      "outputs": [
        {
          "name": "stdout",
          "output_type": "stream",
          "text": [
            "Eigenvalues: [2.00000002 1.99999998]\n",
            "Eigenvectors:\n",
            " [[-0.70710677 -0.70710679]\n",
            " [ 0.70710679  0.70710677]]\n"
          ]
        }
      ],
      "source": [
        "A = np.array([[1, -1], [1, 3]])\n",
        "eigenvalues, eigenvectors = np.linalg.eig(A)\n",
        "print(\"Eigenvalues:\", eigenvalues)\n",
        "print(\"Eigenvectors:\\n\", eigenvectors)"
      ]
    },
    {
      "cell_type": "markdown",
      "metadata": {},
      "source": [
        "### 1.14 Solving Linear Equations:"
      ]
    },
    {
      "cell_type": "code",
      "execution_count": 15,
      "metadata": {},
      "outputs": [
        {
          "name": "stdout",
          "output_type": "stream",
          "text": [
            "Solution: [1. 1.]\n"
          ]
        }
      ],
      "source": [
        "A = np.array([[2, 1], [1, 1]])\n",
        "b = np.array([3, 2])\n",
        "solution = np.linalg.solve(A, b)\n",
        "print(\"Solution:\", solution)"
      ]
    },
    {
      "cell_type": "markdown",
      "metadata": {},
      "source": [
        "### 1.15 Gradient descent optimization:"
      ]
    },
    {
      "cell_type": "code",
      "execution_count": 16,
      "metadata": {},
      "outputs": [
        {
          "name": "stdout",
          "output_type": "stream",
          "text": [
            "Final theta: [[4.22215108]\n",
            " [2.96846751]]\n"
          ]
        }
      ],
      "source": [
        "# Generate some sample data\n",
        "np.random.seed(0)\n",
        "X = 2 * np.random.rand(100, 1)\n",
        "y = 4 + 3 * X + np.random.randn(100, 1)\n",
        "\n",
        "# Add bias term to X\n",
        "X_b = np.c_[np.ones((100, 1)), X]\n",
        "\n",
        "# Hyperparameters\n",
        "learning_rate = 0.1\n",
        "n_iterations = 1000\n",
        "\n",
        "# Initialize the parameters\n",
        "theta = np.random.randn(2, 1)\n",
        "\n",
        "# Gradient Descent\n",
        "for iteration in range(n_iterations):\n",
        "    gradients = 2 / 100 * X_b.T.dot(X_b.dot(theta) - y)\n",
        "    theta = theta - learning_rate * gradients\n",
        "\n",
        "print(\"Final theta:\", theta)"
      ]
    },
    {
      "cell_type": "markdown",
      "metadata": {},
      "source": [
        "## 2. Examples: Python functions and classes"
      ]
    },
    {
      "cell_type": "markdown",
      "metadata": {},
      "source": [
        "### 2.1 Simple Function:"
      ]
    },
    {
      "cell_type": "code",
      "execution_count": 17,
      "metadata": {},
      "outputs": [
        {
          "name": "stdout",
          "output_type": "stream",
          "text": [
            "Hello, Ana!\n"
          ]
        }
      ],
      "source": [
        "def greet(name):\n",
        "    return \"Hello, \" + name + \"!\"\n",
        "\n",
        "print(greet(\"Ana\"))"
      ]
    },
    {
      "cell_type": "markdown",
      "metadata": {},
      "source": [
        "### 2.2 Function with Parameters and Return:"
      ]
    },
    {
      "cell_type": "code",
      "execution_count": 18,
      "metadata": {},
      "outputs": [
        {
          "name": "stdout",
          "output_type": "stream",
          "text": [
            "12\n"
          ]
        }
      ],
      "source": [
        "def add_numbers(a, b):\n",
        "    sum = a + b\n",
        "    return sum\n",
        "\n",
        "result = add_numbers(5, 7)\n",
        "print(result)"
      ]
    },
    {
      "cell_type": "markdown",
      "metadata": {},
      "source": [
        "### 2.3 Function with Default Parameter:"
      ]
    },
    {
      "cell_type": "code",
      "execution_count": 19,
      "metadata": {},
      "outputs": [
        {
          "name": "stdout",
          "output_type": "stream",
          "text": [
            "9\n",
            "8\n"
          ]
        }
      ],
      "source": [
        "def power(base, exponent=2):\n",
        "    return base ** exponent\n",
        "\n",
        "print(power(3))\n",
        "print(power(2, 3))"
      ]
    },
    {
      "cell_type": "markdown",
      "metadata": {},
      "source": [
        "### 2.4 Function with Multiple Returns:"
      ]
    },
    {
      "cell_type": "code",
      "execution_count": 20,
      "metadata": {},
      "outputs": [
        {
          "name": "stdout",
          "output_type": "stream",
          "text": [
            "2 9\n"
          ]
        }
      ],
      "source": [
        "def min_max(numbers):\n",
        "    return min(numbers), max(numbers)\n",
        "\n",
        "nums = [4, 9, 2, 7, 5]\n",
        "minimum, maximum = min_max(nums)\n",
        "print(minimum, maximum)"
      ]
    },
    {
      "cell_type": "markdown",
      "metadata": {},
      "source": [
        "### 2.5 Function with Docstring:"
      ]
    },
    {
      "cell_type": "code",
      "execution_count": 21,
      "metadata": {},
      "outputs": [],
      "source": [
        "def area_of_rectangle(length, width):\n",
        "    \"\"\"\n",
        "    Calculates the area of a rectangle.\n",
        "    \n",
        "    Args:\n",
        "        length (float): The length of the rectangle.\n",
        "        width (float): The width of the rectangle.\n",
        "        \n",
        "    Returns:\n",
        "        float: The area of the rectangle.\n",
        "    \"\"\"\n",
        "    return length * width"
      ]
    },
    {
      "cell_type": "markdown",
      "metadata": {},
      "source": [
        "### 2.6 Creating a Simple Class:"
      ]
    },
    {
      "cell_type": "code",
      "execution_count": 22,
      "metadata": {},
      "outputs": [
        {
          "name": "stdout",
          "output_type": "stream",
          "text": [
            "Buddy is barking!\n"
          ]
        }
      ],
      "source": [
        "class Dog:\n",
        "    def __init__(self, name, age):\n",
        "        self.name = name\n",
        "        self.age = age\n",
        "        \n",
        "    def bark(self):\n",
        "        print(f\"{self.name} is barking!\")\n",
        "        \n",
        "# Create an instance of the Dog class\n",
        "dog1 = Dog(\"Buddy\", 3)\n",
        "dog1.bark()"
      ]
    },
    {
      "cell_type": "markdown",
      "metadata": {},
      "source": [
        "### 2.7 Adding Methods and Attributes"
      ]
    },
    {
      "cell_type": "code",
      "execution_count": 23,
      "metadata": {},
      "outputs": [
        {
          "name": "stdout",
          "output_type": "stream",
          "text": [
            "Alice’s average grade: 88.5\n"
          ]
        }
      ],
      "source": [
        "class Student:\n",
        "    def __init__(self, name, age):\n",
        "        self.name = name\n",
        "        self.age = age\n",
        "        self.grades = []\n",
        "        \n",
        "    def add_grade(self, grade):\n",
        "        self.grades.append(grade)\n",
        "        \n",
        "    def get_average_grade(self):\n",
        "        return sum(self.grades) / len(self.grades)\n",
        "\n",
        "# Create a Student instance and add grades\n",
        "student1 = Student(\"Alice\", 18)\n",
        "student1.add_grade(85)\n",
        "student1.add_grade(92)\n",
        "average_grade = student1.get_average_grade()\n",
        "print(f\"{student1.name}’s average grade: {average_grade}\")"
      ]
    },
    {
      "cell_type": "markdown",
      "metadata": {},
      "source": [
        "### 2.8 Inheritance"
      ]
    },
    {
      "cell_type": "code",
      "execution_count": 24,
      "metadata": {},
      "outputs": [
        {
          "name": "stdout",
          "output_type": "stream",
          "text": [
            "Whiskers says Meow!\n",
            "Buddy says Woof!\n"
          ]
        }
      ],
      "source": [
        "class Animal:\n",
        "    def __init__(self, name):\n",
        "        self.name = name\n",
        "        \n",
        "    def speak(self):\n",
        "        pass # Placeholder for subclasses to override\n",
        "    \n",
        "class Cat(Animal):\n",
        "    def speak(self):\n",
        "        print(f\"{self.name} says Meow!\")\n",
        "        \n",
        "class Dog(Animal):\n",
        "    def speak(self):\n",
        "        print(f\"{self.name} says Woof!\")\n",
        "\n",
        "# Create instances of Cat and Dog\n",
        "cat = Cat(\"Whiskers\")\n",
        "dog = Dog(\"Buddy\")\n",
        "cat.speak()\n",
        "dog.speak()"
      ]
    },
    {
      "cell_type": "markdown",
      "metadata": {},
      "source": [
        "## 3. Exercises"
      ]
    },
    {
      "cell_type": "markdown",
      "metadata": {},
      "source": [
        "### 3.1 Indexing Arrays in NumPy"
      ]
    },
    {
      "cell_type": "markdown",
      "metadata": {},
      "source": [
        "#### 3.1.1 Given the NumPy array arr = np.array([3, 7, 1, 9, 5]), perform the following indexing operations:"
      ]
    },
    {
      "cell_type": "code",
      "execution_count": 25,
      "metadata": {},
      "outputs": [],
      "source": [
        "arr = np.array([3, 7, 1, 9, 5])"
      ]
    },
    {
      "cell_type": "markdown",
      "metadata": {},
      "source": [
        "##### 3.1.1.A Retrieve the third element of the array."
      ]
    },
    {
      "cell_type": "code",
      "execution_count": 26,
      "metadata": {},
      "outputs": [
        {
          "name": "stdout",
          "output_type": "stream",
          "text": [
            "1\n"
          ]
        }
      ],
      "source": [
        "print(arr[2])  # Accessing the third element"
      ]
    },
    {
      "cell_type": "markdown",
      "metadata": {},
      "source": [
        "##### 3.1.1.B Slice the array to get elements from index 1 to index 3."
      ]
    },
    {
      "cell_type": "code",
      "execution_count": 28,
      "metadata": {},
      "outputs": [
        {
          "name": "stdout",
          "output_type": "stream",
          "text": [
            "[3 7 1]\n"
          ]
        }
      ],
      "source": [
        "print(arr[0:3])"
      ]
    },
    {
      "cell_type": "markdown",
      "metadata": {},
      "source": [
        "##### 3.1.1.C Change the value of the fourth element to 12."
      ]
    },
    {
      "cell_type": "code",
      "execution_count": 31,
      "metadata": {},
      "outputs": [
        {
          "name": "stdout",
          "output_type": "stream",
          "text": [
            "[ 3  7  1 12  5]\n",
            "12\n"
          ]
        }
      ],
      "source": [
        "arr[3] = 12\n",
        "print(arr)\n",
        "print(arr[3])"
      ]
    },
    {
      "cell_type": "markdown",
      "metadata": {},
      "source": [
        "#### 3.1.2 Create a 2D NumPy array matrix with the following values:"
      ]
    },
    {
      "cell_type": "code",
      "execution_count": 40,
      "metadata": {},
      "outputs": [
        {
          "name": "stdout",
          "output_type": "stream",
          "text": [
            "[[1 2 3]\n",
            " [4 5 6]\n",
            " [7 8 9]]\n"
          ]
        }
      ],
      "source": [
        "arr = np.arange(9).reshape(3, 3) + 1\n",
        "print(arr)"
      ]
    },
    {
      "cell_type": "markdown",
      "metadata": {},
      "source": [
        "##### 3.1.2.A Retrieve the element in the second row and third column."
      ]
    },
    {
      "cell_type": "code",
      "execution_count": 38,
      "metadata": {},
      "outputs": [
        {
          "name": "stdout",
          "output_type": "stream",
          "text": [
            "6\n"
          ]
        }
      ],
      "source": [
        "print(arr[1, 2])"
      ]
    },
    {
      "cell_type": "markdown",
      "metadata": {},
      "source": [
        "##### 3.1.2.B Slice the matrix to get the submatrix consisting of the first two rows and all columns."
      ]
    },
    {
      "cell_type": "code",
      "execution_count": 39,
      "metadata": {},
      "outputs": [
        {
          "name": "stdout",
          "output_type": "stream",
          "text": [
            "[[1 2 3]\n",
            " [4 5 6]]\n"
          ]
        }
      ],
      "source": [
        "print(arr[:2, :])"
      ]
    },
    {
      "cell_type": "markdown",
      "metadata": {},
      "source": [
        "### 3.2 Indexing and Slicing Higher-Dimensional Tensors\n",
        "\n",
        "Cosider the following 3D tensor representing a stack of matrices:"
      ]
    },
    {
      "cell_type": "code",
      "execution_count": 42,
      "metadata": {},
      "outputs": [
        {
          "name": "stdout",
          "output_type": "stream",
          "text": [
            "[[[ 1  2  3  4]\n",
            "  [ 5  6  7  8]\n",
            "  [ 9 10 11 12]]\n",
            "\n",
            " [[13 14 15 16]\n",
            "  [17 18 19 20]\n",
            "  [21 22 23 24]]\n",
            "\n",
            " [[25 26 27 28]\n",
            "  [29 30 31 32]\n",
            "  [33 34 35 36]]]\n"
          ]
        }
      ],
      "source": [
        "arr = np.arange(36).reshape(3, 3, 4) + 1\n",
        "print(arr)"
      ]
    },
    {
      "cell_type": "markdown",
      "metadata": {},
      "source": [
        "#### 3.2.1 Retrieve the element at the position (1, 0, 2) within the tensor."
      ]
    },
    {
      "cell_type": "code",
      "execution_count": 43,
      "metadata": {},
      "outputs": [
        {
          "name": "stdout",
          "output_type": "stream",
          "text": [
            "15\n"
          ]
        }
      ],
      "source": [
        "print(arr[1, 0, 2])"
      ]
    },
    {
      "cell_type": "markdown",
      "metadata": {},
      "source": [
        "#### 3.2.2 Slice the tensor to obtain the 3 × 4 sub-tensor that corresponds to the second “matrix” (slice) along the first dimension."
      ]
    },
    {
      "cell_type": "code",
      "execution_count": 47,
      "metadata": {},
      "outputs": [
        {
          "name": "stdout",
          "output_type": "stream",
          "text": [
            "[[13 14 15 16]\n",
            " [17 18 19 20]\n",
            " [21 22 23 24]]\n"
          ]
        }
      ],
      "source": [
        "print(arr[1])"
      ]
    },
    {
      "cell_type": "markdown",
      "metadata": {},
      "source": [
        "#### 3.2.3 Slice the tensor to obtain the 2 × 4 sub-tensor that corresponds to the last row of the last two “matrices.”"
      ]
    },
    {
      "cell_type": "code",
      "execution_count": 51,
      "metadata": {},
      "outputs": [
        {
          "name": "stdout",
          "output_type": "stream",
          "text": [
            "[[21 22 23 24]\n",
            " [33 34 35 36]]\n"
          ]
        }
      ],
      "source": [
        "print(arr[1:, 2, :])"
      ]
    },
    {
      "cell_type": "markdown",
      "metadata": {},
      "source": [
        "#### 3.2.4 Retrieve the element at the position (2, 1, 3) within the tensor."
      ]
    },
    {
      "cell_type": "code",
      "execution_count": 52,
      "metadata": {},
      "outputs": [
        {
          "name": "stdout",
          "output_type": "stream",
          "text": [
            "32\n"
          ]
        }
      ],
      "source": [
        "print(arr[2, 1, 3])"
      ]
    },
    {
      "cell_type": "markdown",
      "metadata": {},
      "source": [
        "#### 3.2.5 Slice the tensor to obtain the 2 × 4 sub-tensor that corresponds to the first row of the las two “matrices.”"
      ]
    },
    {
      "cell_type": "code",
      "execution_count": 58,
      "metadata": {},
      "outputs": [
        {
          "name": "stdout",
          "output_type": "stream",
          "text": [
            "[[13 14 15 16]\n",
            " [25 26 27 28]]\n"
          ]
        }
      ],
      "source": [
        "print(arr[1:, 0, :])"
      ]
    },
    {
      "cell_type": "markdown",
      "metadata": {},
      "source": [
        "### 3.3 Defining Functions in Python"
      ]
    },
    {
      "cell_type": "markdown",
      "metadata": {},
      "source": [
        "#### 3.3.1 Write a Python function calculate average that takes a list of numbers as input and returns the average of those numbers."
      ]
    },
    {
      "cell_type": "code",
      "execution_count": null,
      "metadata": {},
      "outputs": [
        {
          "name": "stdout",
          "output_type": "stream",
          "text": [
            "Average: 3.0\n"
          ]
        }
      ],
      "source": [
        "def average (arr):\n",
        "    return sum(arr) / len(arr)\n",
        "\n",
        "nums = [1, 2, 3, 4, 5]\n",
        "\n",
        "avg = average(nums)\n",
        "\n",
        "print(\"Average:\", avg)"
      ]
    },
    {
      "cell_type": "markdown",
      "metadata": {},
      "source": [
        "#### 3.3.2 Define a function find power that calculates the result of a number raised to a given exponent. The function should have two parameters: base (the base number) and exponent (default value should be 2)."
      ]
    },
    {
      "cell_type": "code",
      "execution_count": 64,
      "metadata": {},
      "outputs": [
        {
          "name": "stdout",
          "output_type": "stream",
          "text": [
            "27\n"
          ]
        }
      ],
      "source": [
        "def findpower(base, exponent=2):\n",
        "    return base ** exponent\n",
        "\n",
        "print(findpower(3, 3))"
      ]
    },
    {
      "cell_type": "markdown",
      "metadata": {},
      "source": [
        "### 3.4 Implementing Gradient Descent Optimization"
      ]
    },
    {
      "cell_type": "markdown",
      "metadata": {},
      "source": [
        "#### 3.4.1 Consider the linear regression problem where you have the following data points:"
      ]
    },
    {
      "cell_type": "code",
      "execution_count": 86,
      "metadata": {},
      "outputs": [
        {
          "data": {
            "image/png": "[encoded data removed]",
            "text/plain": [
              "<Figure size 640x480 with 1 Axes>"
            ]
          },
          "metadata": {},
          "output_type": "display_data"
        }
      ],
      "source": [
        "X = np.arange(5) + 1\n",
        "Y = np.array([3, 6, 8, 11, 13])\n",
        "\n",
        "plt.scatter(X, Y)\n",
        "plt.grid(True)"
      ]
    },
    {
      "cell_type": "markdown",
      "metadata": {},
      "source": [
        "#### Implement a Python program using NumPy to perform gradient descent optimization to find the parameters θ0 and θ1 for the linear regression model hθ (x) = θ0 + θ1x. Use a learning rate of 0.01 and iterate for 1000 steps."
      ]
    },
    {
      "cell_type": "code",
      "execution_count": 90,
      "metadata": {},
      "outputs": [
        {
          "name": "stdout",
          "output_type": "stream",
          "text": [
            "Final parameters (θ0, θ1): [0.72860318 2.49207738]\n"
          ]
        },
        {
          "data": {
            "text/plain": [
              "Text(0.5, 1.0, 'Linear Regression Fit')"
            ]
          },
          "execution_count": 90,
          "metadata": {},
          "output_type": "execute_result"
        },
        {
          "data": {
            "image/png": "[encoded data removed]",
            "text/plain": [
              "<Figure size 640x480 with 1 Axes>"
            ]
          },
          "metadata": {},
          "output_type": "display_data"
        }
      ],
      "source": [
        "X_b = np.c_[np.ones((5, 1)), X]\n",
        "\n",
        "learning_rate = 0.01\n",
        "n_iterations = 1000\n",
        "\n",
        "theta = np.random.randn(2, 1)\n",
        "\n",
        "for iteration in range(n_iterations):\n",
        "    gradients = 2 / 5 * X_b.T.dot(X_b.dot(theta) - Y.reshape(-1, 1))\n",
        "    theta = theta - learning_rate * gradients\n",
        "\n",
        "print(\"Final parameters (θ0, θ1):\", theta.flatten())\n",
        "\n",
        "plt.scatter(X, Y)\n",
        "plt.grid(True)\n",
        "plt.plot(X, X_b.dot(theta), color='red')\n",
        "plt.xlabel('X')\n",
        "plt.ylabel('Y')\n",
        "plt.title('Linear Regression Fit')"
      ]
    },
    {
      "cell_type": "markdown",
      "metadata": {},
      "source": [
        "#### 3.4.2 Draw in a plot the progress of the θ0 and θ1 parameters through the steps."
      ]
    },
    {
      "cell_type": "code",
      "execution_count": null,
      "metadata": {},
      "outputs": [],
      "source": []
    },
    {
      "cell_type": "markdown",
      "metadata": {},
      "source": [
        "#### 3.4.3 Explain in your own words the purpose of the learning rate in gradient descent optimization."
      ]
    },
    {
      "cell_type": "markdown",
      "metadata": {},
      "source": []
    }
  ],
  "metadata": {
    "colab": {
      "provenance": []
    },
    "kernelspec": {
      "display_name": "Python 3",
      "name": "python3"
    },
    "language_info": {
      "codemirror_mode": {
        "name": "ipython",
        "version": 3
      },
      "file_extension": ".py",
      "mimetype": "text/x-python",
      "name": "python",
      "nbconvert_exporter": "python",
      "pygments_lexer": "ipython3",
      "version": "3.13.2"
    }
  },
  "nbformat": 4,
  "nbformat_minor": 0
}
