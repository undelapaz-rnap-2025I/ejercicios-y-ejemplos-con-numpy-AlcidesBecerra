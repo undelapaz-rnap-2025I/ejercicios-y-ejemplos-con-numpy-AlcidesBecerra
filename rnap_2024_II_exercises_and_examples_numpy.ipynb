{
  "cells": [
    {
      "cell_type": "markdown",
      "metadata": {
        "id": "z9dathS_lkMu"
      },
      "source": [
        "# <center>Learning and practicing NumPy with examples and exercises</center>"
      ]
    },
    {
      "cell_type": "markdown",
      "metadata": {},
      "source": [
        "## 1. Examples: Numpy"
      ]
    },
    {
      "cell_type": "markdown",
      "metadata": {},
      "source": [
        "Se importan las librerias que se van a utilizar."
      ]
    },
    {
      "cell_type": "code",
      "execution_count": 5,
      "metadata": {},
      "outputs": [],
      "source": [
        "import numpy as np\n",
        "import matplotlib.pyplot as plt"
      ]
    },
    {
      "cell_type": "markdown",
      "metadata": {},
      "source": [
        "### 1.1 Basic Indexing:"
      ]
    },
    {
      "cell_type": "markdown",
      "metadata": {},
      "source": [
        "Se crea un arreglo de NumPy con los valores [10, 20, 30, 40, 50] y luego imprime el tercer elemento del arreglo (índice 2), que es 30."
      ]
    },
    {
      "cell_type": "code",
      "execution_count": 6,
      "metadata": {},
      "outputs": [
        {
          "name": "stdout",
          "output_type": "stream",
          "text": [
            "30\n"
          ]
        }
      ],
      "source": [
        "arr = np.array([10, 20, 30, 40, 50])\n",
        "print(arr[2])"
      ]
    },
    {
      "cell_type": "markdown",
      "metadata": {},
      "source": [
        "### 1.2 Slicing:\n"
      ]
    },
    {
      "cell_type": "markdown",
      "metadata": {},
      "source": [
        "Se crea un arreglo de NumPy con los valores [10, 20, 30, 40, 50] y luego imprime una porción del arreglo desde el índice 1 hasta el 3 (sin incluir el 4), es decir, imprime [20, 30, 40]."
      ]
    },
    {
      "cell_type": "code",
      "execution_count": 7,
      "metadata": {},
      "outputs": [
        {
          "name": "stdout",
          "output_type": "stream",
          "text": [
            "[20 30 40]\n"
          ]
        }
      ],
      "source": [
        "arr = np.array([10, 20, 30, 40, 50])\n",
        "print(arr[1:4])"
      ]
    },
    {
      "cell_type": "markdown",
      "metadata": {},
      "source": [
        "### 1.3 Indexing 2D Arrays:"
      ]
    },
    {
      "cell_type": "markdown",
      "metadata": {},
      "source": [
        "Se crea un arreglo NumPy bidimensional (una matriz de 3x3) con los números del 1 al 9, y luego imprime el elemento que se encuentra en la segunda fila y tercera columna (índice [1, 2]), que es 6."
      ]
    },
    {
      "cell_type": "code",
      "execution_count": 8,
      "metadata": {},
      "outputs": [
        {
          "name": "stdout",
          "output_type": "stream",
          "text": [
            "6\n"
          ]
        }
      ],
      "source": [
        "arr = np.array([[1, 2, 3], \n",
        "                [4, 5, 6], \n",
        "                [7, 8, 9]])\n",
        "print(arr[1, 2])"
      ]
    },
    {
      "cell_type": "markdown",
      "metadata": {},
      "source": [
        "### 1.4 Slicing 2D Arrays:"
      ]
    },
    {
      "cell_type": "markdown",
      "metadata": {},
      "source": [
        "Se crea un arreglo NumPy bidimensional de 3x3 y luego imprime una submatriz que contiene las dos primeras filas (:2) y las columnas desde la segunda en adelante (1:), es decir, imprime [[2, 3], [5, 6]]."
      ]
    },
    {
      "cell_type": "code",
      "execution_count": 9,
      "metadata": {},
      "outputs": [
        {
          "name": "stdout",
          "output_type": "stream",
          "text": [
            "[[2 3]\n",
            " [5 6]]\n"
          ]
        }
      ],
      "source": [
        "arr = np.array([[1, 2, 3], \n",
        "                [4, 5, 6], \n",
        "                [7, 8, 9]])\n",
        "print(arr[:2, 1:])"
      ]
    },
    {
      "cell_type": "markdown",
      "metadata": {},
      "source": [
        "### 1.5 3D Tensor Indexing:"
      ]
    },
    {
      "cell_type": "markdown",
      "metadata": {},
      "source": [
        "Se crea un arreglo NumPy tridimensional (un tensor de 3 bloques, cada uno con 2 filas y 3 columnas). Luego, tensor[1, 0, 2] accede al segundo bloque (1), primera fila (0), tercer elemento (2), que es 9. Después, tensor[1] imprime todo el segundo bloque completo, es decir, [[ 7, 8, 9], [10, 11, 12]]."
      ]
    },
    {
      "cell_type": "code",
      "execution_count": 10,
      "metadata": {},
      "outputs": [
        {
          "name": "stdout",
          "output_type": "stream",
          "text": [
            "9\n",
            "[[ 7  8  9]\n",
            " [10 11 12]]\n"
          ]
        }
      ],
      "source": [
        "tensor = np.array([[[1 , 2 , 3 ], [4 , 5 , 6 ]],\n",
        "                   [[7 , 8 , 9 ], [10, 11, 12]],\n",
        "                   [[13, 14, 15], [16, 17, 18]]])\n",
        "\n",
        "print(tensor[1, 0, 2])\n",
        "\n",
        "print(tensor[1])"
      ]
    },
    {
      "cell_type": "markdown",
      "metadata": {},
      "source": [
        "### 1.6 Slicing a 3D Tensor:"
      ]
    },
    {
      "cell_type": "markdown",
      "metadata": {},
      "source": [
        "Se crea un tensor (arreglo tridimensional) de forma 3x3x3 con los números del 0 al 26, usando np.arange(27).reshape(3, 3, 3). Luego:\n",
        "\n",
        "tensor[1] imprime el segundo bloque (índice 1), que es una matriz 3x3.\n",
        "\n",
        "tensor[:, 1, :] imprime la segunda fila (índice 1) de cada uno de los tres bloques.\n",
        "\n",
        "tensor[:, :, 2] imprime la tercera columna (índice 2) de cada fila en los tres bloques."
      ]
    },
    {
      "cell_type": "code",
      "execution_count": 11,
      "metadata": {},
      "outputs": [
        {
          "name": "stdout",
          "output_type": "stream",
          "text": [
            "[[ 9 10 11]\n",
            " [12 13 14]\n",
            " [15 16 17]]\n",
            "[[ 3  4  5]\n",
            " [12 13 14]\n",
            " [21 22 23]]\n",
            "[[ 2  5  8]\n",
            " [11 14 17]\n",
            " [20 23 26]]\n"
          ]
        }
      ],
      "source": [
        "tensor = np.arange(27).reshape(3, 3, 3)\n",
        "\n",
        "print(tensor[1])\n",
        "\n",
        "print(tensor[:, 1, :])\n",
        "\n",
        "print(tensor[:, :, 2])"
      ]
    },
    {
      "cell_type": "markdown",
      "metadata": {},
      "source": [
        "### 1.7 4D Tensor Indexing:"
      ]
    },
    {
      "cell_type": "markdown",
      "metadata": {},
      "source": [
        "Se crea un tensor de 4 dimensiones con forma (2, 3, 2, 4) que contiene los números del 0 al 47. Luego:\n",
        "\n",
        "tensor[1, 2, 0, 3] accede al segundo bloque (índice 1), tercera submatriz (índice 2), primera fila (índice 0), y cuarta columna (índice 3), devolviendo el valor 43.\n",
        "\n",
        "tensor[1, 2] imprime la submatriz de 2x4 ubicada en el segundo bloque (índice 1), tercera posición (índice 2)."
      ]
    },
    {
      "cell_type": "code",
      "execution_count": 12,
      "metadata": {},
      "outputs": [
        {
          "name": "stdout",
          "output_type": "stream",
          "text": [
            "43\n",
            "[[40 41 42 43]\n",
            " [44 45 46 47]]\n"
          ]
        }
      ],
      "source": [
        "tensor = np.arange(48).reshape(2, 3, 2, 4)\n",
        "\n",
        "print(tensor[1, 2, 0, 3])\n",
        "\n",
        "print(tensor[1, 2])"
      ]
    },
    {
      "cell_type": "markdown",
      "metadata": {},
      "source": [
        "### 1.8 Slicing a 4D Tensor:"
      ]
    },
    {
      "cell_type": "markdown",
      "metadata": {},
      "source": [
        "Se crea un tensor de 4 dimensiones con forma (2, 3, 2, 4) que contiene los números del 0 al 47. Luego:\n",
        "\n",
        "tensor[1] imprime todo el segundo bloque (índice 1), que es un arreglo de forma (3, 2, 4).\n",
        "\n",
        "tensor[:, 2, :, :] imprime la tercera submatriz (índice 2) de cada uno de los dos bloques, manteniendo las dimensiones (2, 2, 4).\n",
        "\n",
        "tensor[:, :, 0, :] imprime la primera fila (índice 0) de cada submatriz en todos los bloques y posiciones, resultando en un arreglo de forma (2, 3, 4)."
      ]
    },
    {
      "cell_type": "code",
      "execution_count": 13,
      "metadata": {},
      "outputs": [
        {
          "name": "stdout",
          "output_type": "stream",
          "text": [
            "[[[24 25 26 27]\n",
            "  [28 29 30 31]]\n",
            "\n",
            " [[32 33 34 35]\n",
            "  [36 37 38 39]]\n",
            "\n",
            " [[40 41 42 43]\n",
            "  [44 45 46 47]]]\n",
            "[[[16 17 18 19]\n",
            "  [20 21 22 23]]\n",
            "\n",
            " [[40 41 42 43]\n",
            "  [44 45 46 47]]]\n",
            "[[[ 0  1  2  3]\n",
            "  [ 8  9 10 11]\n",
            "  [16 17 18 19]]\n",
            "\n",
            " [[24 25 26 27]\n",
            "  [32 33 34 35]\n",
            "  [40 41 42 43]]]\n"
          ]
        }
      ],
      "source": [
        "tensor = np.arange(48).reshape(2, 3, 2, 4)\n",
        "\n",
        "print(tensor[1])\n",
        "\n",
        "print(tensor[:, 2, :, :])\n",
        "\n",
        "print(tensor[:, :, 0, :])"
      ]
    },
    {
      "cell_type": "markdown",
      "metadata": {},
      "source": [
        "### 1.9 Matrix Addition:"
      ]
    },
    {
      "cell_type": "markdown",
      "metadata": {},
      "source": [
        "Se crean dos matrices NumPy de 2x2, A y B, y luego realiza una suma elemento a elemento entre ellas, almacenando el resultado en result. Finalmente, imprime la matriz resultante: [[6, 8], [10, 12]]."
      ]
    },
    {
      "cell_type": "code",
      "execution_count": 14,
      "metadata": {},
      "outputs": [
        {
          "name": "stdout",
          "output_type": "stream",
          "text": [
            "[[ 6  8]\n",
            " [10 12]]\n"
          ]
        }
      ],
      "source": [
        "A = np.array([[1, 2], [3, 4]])\n",
        "B = np.array([[5, 6], [7, 8]])\n",
        "result = A + B\n",
        "print(result)"
      ]
    },
    {
      "cell_type": "markdown",
      "metadata": {},
      "source": [
        "### 1.10 Matrix Multiplication:"
      ]
    },
    {
      "cell_type": "markdown",
      "metadata": {},
      "source": [
        "Se crean dos matrices 2x2, A y B, y luego calcula su producto matricial usando np.dot(A, B), almacenando el resultado en result. Finalmente, imprime la matriz resultante: [[19, 22], [43, 50]]."
      ]
    },
    {
      "cell_type": "code",
      "execution_count": 15,
      "metadata": {},
      "outputs": [
        {
          "name": "stdout",
          "output_type": "stream",
          "text": [
            "[[19 22]\n",
            " [43 50]]\n"
          ]
        }
      ],
      "source": [
        "A = np.array([[1, 2], [3, 4]])\n",
        "B = np.array([[5, 6], [7, 8]])\n",
        "result = np.dot(A, B)\n",
        "print(result)"
      ]
    },
    {
      "cell_type": "markdown",
      "metadata": {},
      "source": [
        "### 1.11 Transpose of a Matrix:"
      ]
    },
    {
      "cell_type": "markdown",
      "metadata": {},
      "source": [
        "Se crea una matriz 2x2 llamada A y luego obtiene su transpuesta con np.transpose(A), lo que intercambia filas por columnas. Finalmente, imprime la matriz transpuesta: [[1, 3], [2, 4]]."
      ]
    },
    {
      "cell_type": "code",
      "execution_count": 16,
      "metadata": {},
      "outputs": [
        {
          "name": "stdout",
          "output_type": "stream",
          "text": [
            "[[1 3]\n",
            " [2 4]]\n"
          ]
        }
      ],
      "source": [
        "A = np.array([[1, 2], [3, 4]])\n",
        "result = np.transpose(A)\n",
        "print(result)"
      ]
    },
    {
      "cell_type": "markdown",
      "metadata": {},
      "source": [
        "### 1.12 Matrix Determinant and Inverse:"
      ]
    },
    {
      "cell_type": "markdown",
      "metadata": {},
      "source": [
        "Se crea una matriz 2x2 llamada A, calcula su determinante con np.linalg.det(A) y su inversa con np.linalg.inv(A). Luego imprime ambos resultados. El determinante es -2.0 y la inversa de A es [[-2.   1. ] [ 1.5 -0.5]]"
      ]
    },
    {
      "cell_type": "code",
      "execution_count": 17,
      "metadata": {},
      "outputs": [
        {
          "name": "stdout",
          "output_type": "stream",
          "text": [
            "Determinant: -2.0000000000000004\n",
            "Inverse:\n",
            " [[-2.   1. ]\n",
            " [ 1.5 -0.5]]\n"
          ]
        }
      ],
      "source": [
        "A = np.array([[1, 2], [3, 4]])\n",
        "det = np.linalg.det(A)\n",
        "inverse = np.linalg.inv(A)\n",
        "print(\"Determinant:\", det)\n",
        "print(\"Inverse:\\n\", inverse)"
      ]
    },
    {
      "cell_type": "markdown",
      "metadata": {},
      "source": [
        "### 1.13 Eigenvalues and Eigenvectors:"
      ]
    },
    {
      "cell_type": "markdown",
      "metadata": {},
      "source": [
        "Se crea una matriz 2x2 llamada A, luego calcula sus valores propios (eigenvalues) y vectores propios (eigenvectors) usando np.linalg.eig(A). Finalmente, imprime los valores propios (que indican escalas de transformación) y los vectores propios correspondientes (direcciones invariantes bajo la transformación). El resultado muestra cómo la matriz A actúa sobre el espacio en términos de escala y dirección."
      ]
    },
    {
      "cell_type": "code",
      "execution_count": 18,
      "metadata": {},
      "outputs": [
        {
          "name": "stdout",
          "output_type": "stream",
          "text": [
            "Eigenvalues: [2.00000002 1.99999998]\n",
            "Eigenvectors:\n",
            " [[-0.70710677 -0.70710679]\n",
            " [ 0.70710679  0.70710677]]\n"
          ]
        }
      ],
      "source": [
        "A = np.array([[1, -1], [1, 3]])\n",
        "eigenvalues, eigenvectors = np.linalg.eig(A)\n",
        "print(\"Eigenvalues:\", eigenvalues)\n",
        "print(\"Eigenvectors:\\n\", eigenvectors)"
      ]
    },
    {
      "cell_type": "markdown",
      "metadata": {},
      "source": [
        "### 1.14 Solving Linear Equations:"
      ]
    },
    {
      "cell_type": "markdown",
      "metadata": {},
      "source": [
        "Este código define un sistema de ecuaciones lineales representado por la matriz de coeficientes A y el vector de resultados b, luego utiliza np.linalg.solve(A, b) para encontrar la solución del sistema. Finalmente, imprime la solución, que es el vector x tal que A @ x = b; en este caso, la solución es [1. 1.]."
      ]
    },
    {
      "cell_type": "code",
      "execution_count": 19,
      "metadata": {},
      "outputs": [
        {
          "name": "stdout",
          "output_type": "stream",
          "text": [
            "Solution: [1. 1.]\n"
          ]
        }
      ],
      "source": [
        "A = np.array([[2, 1], [1, 1]])\n",
        "b = np.array([3, 2])\n",
        "solution = np.linalg.solve(A, b)\n",
        "print(\"Solution:\", solution)"
      ]
    },
    {
      "cell_type": "markdown",
      "metadata": {},
      "source": [
        "### 1.15 Gradient descent optimization:"
      ]
    },
    {
      "cell_type": "markdown",
      "metadata": {},
      "source": [
        "Este código implementa desde cero el algoritmo de descenso por gradiente para ajustar una regresión lineal. Genera 100 datos aleatorios simulando una relación lineal entre X y Y, agrega un término de sesgo (bias) a X, inicializa los parámetros theta aleatoriamente, y luego ajusta esos parámetros iterativamente durante 1000 iteraciones para minimizar el error cuadrático medio entre las predicciones y los valores reales. Al final, imprime los valores ajustados de theta, que representan los coeficientes óptimos de la recta que mejor se ajusta a los datos."
      ]
    },
    {
      "cell_type": "code",
      "execution_count": 20,
      "metadata": {},
      "outputs": [
        {
          "name": "stdout",
          "output_type": "stream",
          "text": [
            "Final theta: [[4.22215108]\n",
            " [2.96846751]]\n"
          ]
        }
      ],
      "source": [
        "# Generate some sample data\n",
        "np.random.seed(0)\n",
        "X = 2 * np.random.rand(100, 1)\n",
        "y = 4 + 3 * X + np.random.randn(100, 1)\n",
        "\n",
        "# Add bias term to X\n",
        "X_b = np.c_[np.ones((100, 1)), X]\n",
        "\n",
        "# Hyperparameters\n",
        "learning_rate = 0.1\n",
        "n_iterations = 1000\n",
        "\n",
        "# Initialize the parameters\n",
        "theta = np.random.randn(2, 1)\n",
        "\n",
        "# Gradient Descent\n",
        "for iteration in range(n_iterations):\n",
        "    gradients = 2 / 100 * X_b.T.dot(X_b.dot(theta) - y)\n",
        "    theta = theta - learning_rate * gradients\n",
        "\n",
        "print(\"Final theta:\", theta)"
      ]
    },
    {
      "cell_type": "markdown",
      "metadata": {},
      "source": [
        "## 2. Examples: Python functions and classes"
      ]
    },
    {
      "cell_type": "markdown",
      "metadata": {},
      "source": [
        "### 2.1 Simple Function:"
      ]
    },
    {
      "cell_type": "markdown",
      "metadata": {},
      "source": [
        "Se define una función llamada greet que toma un nombre como argumento y devuelve un saludo personalizado en formato \"Hello, 'nombre'!\". Luego, llama a la función con el nombre \"Ana\" y muestra en pantalla el mensaje \"Hello, Ana!\"."
      ]
    },
    {
      "cell_type": "code",
      "execution_count": 21,
      "metadata": {},
      "outputs": [
        {
          "name": "stdout",
          "output_type": "stream",
          "text": [
            "Hello, Ana!\n"
          ]
        }
      ],
      "source": [
        "def greet(name):\n",
        "    return \"Hello, \" + name + \"!\"\n",
        "\n",
        "print(greet(\"Ana\"))"
      ]
    },
    {
      "cell_type": "markdown",
      "metadata": {},
      "source": [
        "### 2.2 Function with Parameters and Return:"
      ]
    },
    {
      "cell_type": "markdown",
      "metadata": {},
      "source": [
        "Se define una función llamada add_numbers que toma dos argumentos a y b, calcula su suma y la devuelve. Luego, llama a la función con los valores 5 y 7, guarda el resultado en la variable result y lo imprime, mostrando 12."
      ]
    },
    {
      "cell_type": "code",
      "execution_count": 22,
      "metadata": {},
      "outputs": [
        {
          "name": "stdout",
          "output_type": "stream",
          "text": [
            "12\n"
          ]
        }
      ],
      "source": [
        "def add_numbers(a, b):\n",
        "    sum = a + b\n",
        "    return sum\n",
        "\n",
        "result = add_numbers(5, 7)\n",
        "print(result)"
      ]
    },
    {
      "cell_type": "markdown",
      "metadata": {},
      "source": [
        "### 2.3 Function with Default Parameter:"
      ]
    },
    {
      "cell_type": "markdown",
      "metadata": {},
      "source": [
        "Se define una función llamada power que calcula la potencia de un número. Toma dos argumentos: base y un exponent que por defecto es 2. Luego imprime el resultado de power(3), que devuelve $3^2 $ = 9, y de power(2, 3), que devuelve $2^3$ = 8."
      ]
    },
    {
      "cell_type": "code",
      "execution_count": 23,
      "metadata": {},
      "outputs": [
        {
          "name": "stdout",
          "output_type": "stream",
          "text": [
            "9\n",
            "8\n"
          ]
        }
      ],
      "source": [
        "def power(base, exponent=2):\n",
        "    return base ** exponent\n",
        "\n",
        "print(power(3))\n",
        "print(power(2, 3))"
      ]
    },
    {
      "cell_type": "markdown",
      "metadata": {},
      "source": [
        "### 2.4 Function with Multiple Returns:"
      ]
    },
    {
      "cell_type": "markdown",
      "metadata": {},
      "source": [
        "Se define una función llamada min_max que recibe una lista de números y devuelve una tupla con el valor mínimo y máximo. Luego, con la lista nums = [4, 9, 2, 7, 5], la función retorna (2, 9), que se asignan a las variables minimum y maximum, y finalmente imprime 2 9."
      ]
    },
    {
      "cell_type": "code",
      "execution_count": 24,
      "metadata": {},
      "outputs": [
        {
          "name": "stdout",
          "output_type": "stream",
          "text": [
            "2 9\n"
          ]
        }
      ],
      "source": [
        "def min_max(numbers):\n",
        "    return min(numbers), max(numbers)\n",
        "\n",
        "nums = [4, 9, 2, 7, 5]\n",
        "minimum, maximum = min_max(nums)\n",
        "print(minimum, maximum)"
      ]
    },
    {
      "cell_type": "markdown",
      "metadata": {},
      "source": [
        "### 2.5 Function with Docstring:"
      ]
    },
    {
      "cell_type": "markdown",
      "metadata": {},
      "source": [
        "Se define una función llamada area_of_rectangle que calcula y devuelve el área de un rectángulo multiplicando su length (longitud) por su width (ancho)."
      ]
    },
    {
      "cell_type": "code",
      "execution_count": 25,
      "metadata": {},
      "outputs": [],
      "source": [
        "def area_of_rectangle(length, width):\n",
        "    \"\"\"\n",
        "    Calculates the area of a rectangle.\n",
        "    \n",
        "    Args:\n",
        "        length (float): The length of the rectangle.\n",
        "        width (float): The width of the rectangle.\n",
        "        \n",
        "    Returns:\n",
        "        float: The area of the rectangle.\n",
        "    \"\"\"\n",
        "    return length * width"
      ]
    },
    {
      "cell_type": "markdown",
      "metadata": {},
      "source": [
        "### 2.6 Creating a Simple Class:"
      ]
    },
    {
      "cell_type": "markdown",
      "metadata": {},
      "source": [
        "Se define una clase llamada Dog con un constructor (__init__) que inicializa los atributos name y age, y un método bark que imprime un mensaje indicando que el perro está ladrando. Luego crea una instancia de la clase llamada dog1 con nombre \"Buddy\" y edad 3, y llama al método bark, imprimiendo: \"Buddy is barking!\"."
      ]
    },
    {
      "cell_type": "code",
      "execution_count": 26,
      "metadata": {},
      "outputs": [
        {
          "name": "stdout",
          "output_type": "stream",
          "text": [
            "Buddy is barking!\n"
          ]
        }
      ],
      "source": [
        "class Dog:\n",
        "    def __init__(self, name, age):\n",
        "        self.name = name\n",
        "        self.age = age\n",
        "        \n",
        "    def bark(self):\n",
        "        print(f\"{self.name} is barking!\")\n",
        "        \n",
        "# Create an instance of the Dog class\n",
        "dog1 = Dog(\"Buddy\", 3)\n",
        "dog1.bark()"
      ]
    },
    {
      "cell_type": "markdown",
      "metadata": {},
      "source": [
        "### 2.7 Adding Methods and Attributes"
      ]
    },
    {
      "cell_type": "markdown",
      "metadata": {},
      "source": [
        "Se define una clase llamada Student con un constructor (__init__) que inicializa los atributos name, age y una lista vacía grades para almacenar las calificaciones. La clase tiene dos métodos: add_grade para agregar una calificación a la lista y get_average_grade para calcular el promedio de las calificaciones. Luego, se crea una instancia de Student llamada student1 con el nombre \"Alice\" y la edad 18, se agregan dos calificaciones (85 y 92), y finalmente, se calcula e imprime el promedio de calificaciones de Alice, mostrando: \"Alice’s average grade: 88.5\"."
      ]
    },
    {
      "cell_type": "code",
      "execution_count": 27,
      "metadata": {},
      "outputs": [
        {
          "name": "stdout",
          "output_type": "stream",
          "text": [
            "Alice’s average grade: 88.5\n"
          ]
        }
      ],
      "source": [
        "class Student:\n",
        "    def __init__(self, name, age):\n",
        "        self.name = name\n",
        "        self.age = age\n",
        "        self.grades = []\n",
        "        \n",
        "    def add_grade(self, grade):\n",
        "        self.grades.append(grade)\n",
        "        \n",
        "    def get_average_grade(self):\n",
        "        return sum(self.grades) / len(self.grades)\n",
        "\n",
        "# Create a Student instance and add grades\n",
        "student1 = Student(\"Alice\", 18)\n",
        "student1.add_grade(85)\n",
        "student1.add_grade(92)\n",
        "average_grade = student1.get_average_grade()\n",
        "print(f\"{student1.name}’s average grade: {average_grade}\")"
      ]
    },
    {
      "cell_type": "markdown",
      "metadata": {},
      "source": [
        "### 2.8 Inheritance"
      ]
    },
    {
      "cell_type": "markdown",
      "metadata": {},
      "source": [
        "Se define una jerarquía de clases en la que Animal es una clase base con un método speak que actúa como un marcador de posición para que las clases hijas lo sobreescriban. Luego, las clases Cat y Dog heredan de Animal y sobreescriben el método speak para imprimir el sonido correspondiente de cada animal. Se crean instancias de Cat y Dog llamadas \"Whiskers\" y \"Buddy\", respectivamente, y se llaman los métodos speak, lo que resulta en la impresión de:\n",
        "Whiskers says Meow!\n",
        "Buddy says Woof!"
      ]
    },
    {
      "cell_type": "code",
      "execution_count": 28,
      "metadata": {},
      "outputs": [
        {
          "name": "stdout",
          "output_type": "stream",
          "text": [
            "Whiskers says Meow!\n",
            "Buddy says Woof!\n"
          ]
        }
      ],
      "source": [
        "class Animal:\n",
        "    def __init__(self, name):\n",
        "        self.name = name\n",
        "        \n",
        "    def speak(self):\n",
        "        pass # Placeholder for subclasses to override\n",
        "    \n",
        "class Cat(Animal):\n",
        "    def speak(self):\n",
        "        print(f\"{self.name} says Meow!\")\n",
        "        \n",
        "class Dog(Animal):\n",
        "    def speak(self):\n",
        "        print(f\"{self.name} says Woof!\")\n",
        "\n",
        "# Create instances of Cat and Dog\n",
        "cat = Cat(\"Whiskers\")\n",
        "dog = Dog(\"Buddy\")\n",
        "cat.speak()\n",
        "dog.speak()"
      ]
    },
    {
      "cell_type": "markdown",
      "metadata": {},
      "source": [
        "## 3. Exercises"
      ]
    },
    {
      "cell_type": "markdown",
      "metadata": {},
      "source": [
        "### 3.1 Indexing Arrays in NumPy"
      ]
    },
    {
      "cell_type": "markdown",
      "metadata": {},
      "source": [
        "#### 3.1.1 Given the NumPy array arr = np.array([3, 7, 1, 9, 5]), perform the following indexing operations:"
      ]
    },
    {
      "cell_type": "code",
      "execution_count": 29,
      "metadata": {},
      "outputs": [],
      "source": [
        "arr = np.array([3, 7, 1, 9, 5])"
      ]
    },
    {
      "cell_type": "markdown",
      "metadata": {},
      "source": [
        "##### 3.1.1.A Retrieve the third element of the array."
      ]
    },
    {
      "cell_type": "code",
      "execution_count": 30,
      "metadata": {},
      "outputs": [
        {
          "name": "stdout",
          "output_type": "stream",
          "text": [
            "1\n"
          ]
        }
      ],
      "source": [
        "print(arr[2])  # Accessing the third element"
      ]
    },
    {
      "cell_type": "markdown",
      "metadata": {},
      "source": [
        "##### 3.1.1.B Slice the array to get elements from index 1 to index 3."
      ]
    },
    {
      "cell_type": "code",
      "execution_count": 31,
      "metadata": {},
      "outputs": [
        {
          "name": "stdout",
          "output_type": "stream",
          "text": [
            "[3 7 1]\n"
          ]
        }
      ],
      "source": [
        "print(arr[0:3])"
      ]
    },
    {
      "cell_type": "markdown",
      "metadata": {},
      "source": [
        "##### 3.1.1.C Change the value of the fourth element to 12."
      ]
    },
    {
      "cell_type": "code",
      "execution_count": 32,
      "metadata": {},
      "outputs": [
        {
          "name": "stdout",
          "output_type": "stream",
          "text": [
            "[ 3  7  1 12  5]\n",
            "12\n"
          ]
        }
      ],
      "source": [
        "arr[3] = 12\n",
        "print(arr)\n",
        "print(arr[3])"
      ]
    },
    {
      "cell_type": "markdown",
      "metadata": {},
      "source": [
        "#### 3.1.2 Create a 2D NumPy array matrix with the following values:"
      ]
    },
    {
      "cell_type": "code",
      "execution_count": 33,
      "metadata": {},
      "outputs": [
        {
          "name": "stdout",
          "output_type": "stream",
          "text": [
            "[[1 2 3]\n",
            " [4 5 6]\n",
            " [7 8 9]]\n"
          ]
        }
      ],
      "source": [
        "arr = np.arange(9).reshape(3, 3) + 1\n",
        "print(arr)"
      ]
    },
    {
      "cell_type": "markdown",
      "metadata": {},
      "source": [
        "##### 3.1.2.A Retrieve the element in the second row and third column."
      ]
    },
    {
      "cell_type": "code",
      "execution_count": 34,
      "metadata": {},
      "outputs": [
        {
          "name": "stdout",
          "output_type": "stream",
          "text": [
            "6\n"
          ]
        }
      ],
      "source": [
        "print(arr[1, 2])"
      ]
    },
    {
      "cell_type": "markdown",
      "metadata": {},
      "source": [
        "##### 3.1.2.B Slice the matrix to get the submatrix consisting of the first two rows and all columns."
      ]
    },
    {
      "cell_type": "code",
      "execution_count": 35,
      "metadata": {},
      "outputs": [
        {
          "name": "stdout",
          "output_type": "stream",
          "text": [
            "[[1 2 3]\n",
            " [4 5 6]]\n"
          ]
        }
      ],
      "source": [
        "print(arr[:2, :])"
      ]
    },
    {
      "cell_type": "markdown",
      "metadata": {},
      "source": [
        "### 3.2 Indexing and Slicing Higher-Dimensional Tensors\n",
        "\n",
        "Cosider the following 3D tensor representing a stack of matrices:"
      ]
    },
    {
      "cell_type": "code",
      "execution_count": 36,
      "metadata": {},
      "outputs": [
        {
          "name": "stdout",
          "output_type": "stream",
          "text": [
            "[[[ 1  2  3  4]\n",
            "  [ 5  6  7  8]\n",
            "  [ 9 10 11 12]]\n",
            "\n",
            " [[13 14 15 16]\n",
            "  [17 18 19 20]\n",
            "  [21 22 23 24]]\n",
            "\n",
            " [[25 26 27 28]\n",
            "  [29 30 31 32]\n",
            "  [33 34 35 36]]]\n"
          ]
        }
      ],
      "source": [
        "arr = np.arange(36).reshape(3, 3, 4) + 1\n",
        "print(arr)"
      ]
    },
    {
      "cell_type": "markdown",
      "metadata": {},
      "source": [
        "#### 3.2.1 Retrieve the element at the position (1, 0, 2) within the tensor."
      ]
    },
    {
      "cell_type": "code",
      "execution_count": 37,
      "metadata": {},
      "outputs": [
        {
          "name": "stdout",
          "output_type": "stream",
          "text": [
            "15\n"
          ]
        }
      ],
      "source": [
        "print(arr[1, 0, 2])"
      ]
    },
    {
      "cell_type": "markdown",
      "metadata": {},
      "source": [
        "#### 3.2.2 Slice the tensor to obtain the 3 × 4 sub-tensor that corresponds to the second “matrix” (slice) along the first dimension."
      ]
    },
    {
      "cell_type": "code",
      "execution_count": 38,
      "metadata": {},
      "outputs": [
        {
          "name": "stdout",
          "output_type": "stream",
          "text": [
            "[[13 14 15 16]\n",
            " [17 18 19 20]\n",
            " [21 22 23 24]]\n"
          ]
        }
      ],
      "source": [
        "print(arr[1])"
      ]
    },
    {
      "cell_type": "markdown",
      "metadata": {},
      "source": [
        "#### 3.2.3 Slice the tensor to obtain the 2 × 4 sub-tensor that corresponds to the last row of the last two “matrices.”"
      ]
    },
    {
      "cell_type": "code",
      "execution_count": 39,
      "metadata": {},
      "outputs": [
        {
          "name": "stdout",
          "output_type": "stream",
          "text": [
            "[[21 22 23 24]\n",
            " [33 34 35 36]]\n"
          ]
        }
      ],
      "source": [
        "print(arr[1:, 2, :])"
      ]
    },
    {
      "cell_type": "markdown",
      "metadata": {},
      "source": [
        "#### 3.2.4 Retrieve the element at the position (2, 1, 3) within the tensor."
      ]
    },
    {
      "cell_type": "code",
      "execution_count": 40,
      "metadata": {},
      "outputs": [
        {
          "name": "stdout",
          "output_type": "stream",
          "text": [
            "32\n"
          ]
        }
      ],
      "source": [
        "print(arr[2, 1, 3])"
      ]
    },
    {
      "cell_type": "markdown",
      "metadata": {},
      "source": [
        "#### 3.2.5 Slice the tensor to obtain the 2 × 4 sub-tensor that corresponds to the first row of the las two “matrices.”"
      ]
    },
    {
      "cell_type": "code",
      "execution_count": 41,
      "metadata": {},
      "outputs": [
        {
          "name": "stdout",
          "output_type": "stream",
          "text": [
            "[[13 14 15 16]\n",
            " [25 26 27 28]]\n"
          ]
        }
      ],
      "source": [
        "print(arr[1:, 0, :])"
      ]
    },
    {
      "cell_type": "markdown",
      "metadata": {},
      "source": [
        "### 3.3 Defining Functions in Python"
      ]
    },
    {
      "cell_type": "markdown",
      "metadata": {},
      "source": [
        "#### 3.3.1 Write a Python function calculate average that takes a list of numbers as input and returns the average of those numbers."
      ]
    },
    {
      "cell_type": "code",
      "execution_count": 42,
      "metadata": {},
      "outputs": [
        {
          "name": "stdout",
          "output_type": "stream",
          "text": [
            "Average: 3.0\n"
          ]
        }
      ],
      "source": [
        "def average (arr):\n",
        "    return sum(arr) / len(arr)\n",
        "\n",
        "nums = [1, 2, 3, 4, 5]\n",
        "\n",
        "avg = average(nums)\n",
        "\n",
        "print(\"Average:\", avg)"
      ]
    },
    {
      "cell_type": "markdown",
      "metadata": {},
      "source": [
        "#### 3.3.2 Define a function find power that calculates the result of a number raised to a given exponent. The function should have two parameters: base (the base number) and exponent (default value should be 2)."
      ]
    },
    {
      "cell_type": "code",
      "execution_count": 43,
      "metadata": {},
      "outputs": [
        {
          "name": "stdout",
          "output_type": "stream",
          "text": [
            "27\n"
          ]
        }
      ],
      "source": [
        "def findpower(base, exponent=2):\n",
        "    return base ** exponent\n",
        "\n",
        "print(findpower(3, 3))"
      ]
    },
    {
      "cell_type": "markdown",
      "metadata": {},
      "source": [
        "### 3.4 Implementing Gradient Descent Optimization"
      ]
    },
    {
      "cell_type": "markdown",
      "metadata": {},
      "source": [
        "#### 3.4.1 Consider the linear regression problem where you have the following data points:"
      ]
    },
    {
      "cell_type": "code",
      "execution_count": 44,
      "metadata": {},
      "outputs": [
        {
          "data": {
            "image/png": "[encoded data removed]",
            "text/plain": [
              "<Figure size 640x480 with 1 Axes>"
            ]
          },
          "metadata": {},
          "output_type": "display_data"
        }
      ],
      "source": [
        "# Data\n",
        "X = np.array([1, 2, 3, 4, 5])\n",
        "Y = np.array([3, 6, 8, 11, 13])\n",
        "\n",
        "plt.scatter(X, Y)\n",
        "plt.xlabel('X')\n",
        "plt.ylabel('Y')\n",
        "plt.xticks(range(1, 6))\n",
        "plt.yticks(range(1, 14))\n",
        "plt.grid(True)"
      ]
    },
    {
      "cell_type": "markdown",
      "metadata": {},
      "source": [
        "#### Implement a Python program using NumPy to perform gradient descent optimization to find the parameters θ0 and θ1 for the linear regression model hθ (x) = θ0 + θ1x. Use a learning rate of 0.01 and iterate for 1000 steps."
      ]
    },
    {
      "cell_type": "code",
      "execution_count": 48,
      "metadata": {},
      "outputs": [
        {
          "name": "stdout",
          "output_type": "stream",
          "text": [
            "Final parameters (θ0, θ1): [0.73334033 2.49076526]\n"
          ]
        },
        {
          "data": {
            "text/plain": [
              "Text(0.5, 1.0, 'Linear Regression Fit')"
            ]
          },
          "execution_count": 48,
          "metadata": {},
          "output_type": "execute_result"
        },
        {
          "data": {
            "image/png": "[encoded data removed]",
            "text/plain": [
              "<Figure size 640x480 with 1 Axes>"
            ]
          },
          "metadata": {},
          "output_type": "display_data"
        }
      ],
      "source": [
        "# Add bias term to X\n",
        "X_b = np.c_[np.ones((5, 1)), X]\n",
        "\n",
        "# Hyperparameters\n",
        "learning_rate = 0.01\n",
        "n_iterations = 1000\n",
        "\n",
        "# Initialize the parameters\n",
        "theta = np.random.randn(2)\n",
        "\n",
        "# store theta values\n",
        "theta_0_vals = []\n",
        "theta_1_vals = []\n",
        "\n",
        "# Gradient Descent\n",
        "for iteration in range(n_iterations):\n",
        "    gradients = 2 / 5 * X_b.T.dot(X_b.dot(theta) - Y)\n",
        "    theta = theta - learning_rate * gradients\n",
        "    theta_0_vals.append(theta[0])\n",
        "    theta_1_vals.append(theta[1])\n",
        "\n",
        "print(\"Final parameters (θ0, θ1):\", theta)\n",
        "\n",
        "plt.scatter(X, Y)\n",
        "plt.xlabel('X')\n",
        "plt.ylabel('Y')\n",
        "plt.xticks(range(1, 6))\n",
        "plt.yticks(range(1, 14))\n",
        "plt.grid(True)\n",
        "plt.plot(X, X_b.dot(theta), color='red')\n",
        "plt.title('Linear Regression Fit')"
      ]
    },
    {
      "cell_type": "markdown",
      "metadata": {},
      "source": [
        "#### 3.4.2 Draw in a plot the progress of the θ0 and θ1 parameters through the steps."
      ]
    },
    {
      "cell_type": "code",
      "execution_count": 49,
      "metadata": {},
      "outputs": [
        {
          "data": {
            "image/png": "[encoded data removed]",
            "text/plain": [
              "<Figure size 640x480 with 1 Axes>"
            ]
          },
          "metadata": {},
          "output_type": "display_data"
        }
      ],
      "source": [
        "plt.plot(theta_0_vals, label='θ0')\n",
        "plt.plot(theta_1_vals, label='θ1')\n",
        "plt.xlabel('Iteración')\n",
        "plt.ylabel('Valor del parámetro')\n",
        "plt.title('Evolución de θ0 y θ1 durante el descenso de gradiente')\n",
        "plt.legend()\n",
        "plt.grid(True)\n",
        "plt.show()\n"
      ]
    },
    {
      "cell_type": "markdown",
      "metadata": {},
      "source": [
        "#### 3.4.3 Explain in your own words the purpose of the learning rate in gradient descent optimization."
      ]
    },
    {
      "cell_type": "markdown",
      "metadata": {},
      "source": [
        "Este es la tasa a la que se modifican los parámetros de θ, se debe usar una tasa adecuada debido a que si esta es demasiado grande podría no encontrarse un mínimo y no converger, si es demasiado pequeña tomaría demasiadas iteraciones para converger."
      ]
    }
  ],
  "metadata": {
    "colab": {
      "provenance": []
    },
    "kernelspec": {
      "display_name": "Python 3",
      "name": "python3"
    },
    "language_info": {
      "codemirror_mode": {
        "name": "ipython",
        "version": 3
      },
      "file_extension": ".py",
      "mimetype": "text/x-python",
      "name": "python",
      "nbconvert_exporter": "python",
      "pygments_lexer": "ipython3",
      "version": "3.13.2"
    }
  },
  "nbformat": 4,
  "nbformat_minor": 0
}
